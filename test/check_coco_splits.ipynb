{
 "cells": [
  {
   "cell_type": "markdown",
   "metadata": {},
   "source": [
    "### This ipynb checks if Karpathy's splits are same as Ross's detection splits.\n",
    "- karpathy's val == valminusminival ? No.\n",
    "- karpathy's test == minival ? No."
   ]
  },
  {
   "cell_type": "code",
   "execution_count": 2,
   "metadata": {},
   "outputs": [],
   "source": [
    "import json\n",
    "import os.path as osp"
   ]
  },
  {
   "cell_type": "code",
   "execution_count": 25,
   "metadata": {},
   "outputs": [],
   "source": [
    "# load coco instances\n",
    "coco_dir = \"../data/coco\"\n",
    "train_data = json.load(open(osp.join(coco_dir, \"annotations\", \"instances_train2014.json\")))\n",
    "valminusminival_data = json.load(open(osp.join(coco_dir, \"annotations\", \"instances_valminusminival2014.json\")))\n",
    "minival_data = json.load(open(osp.join(coco_dir, \"annotations\", \"instances_minival2014.json\")))"
   ]
  },
  {
   "cell_type": "code",
   "execution_count": 26,
   "metadata": {},
   "outputs": [
    {
     "name": "stdout",
     "output_type": "stream",
     "text": [
      "There are 82783 train images, 35504 valminusminival images and 5000 minival images.\n"
     ]
    }
   ],
   "source": [
    "train_iids = [img[\"id\"] for img in train_data[\"images\"]]\n",
    "valminusminival_iids = [img[\"id\"] for img in valminusminival_data[\"images\"]]\n",
    "minival_iids = [img[\"id\"] for img in minival_data[\"images\"]]\n",
    "print(f\"There are {len(train_iids)} train images, {len(valminusminival_iids)} valminusminival images and {len(minival_iids)} minival images.\")"
   ]
  },
  {
   "cell_type": "code",
   "execution_count": 24,
   "metadata": {},
   "outputs": [
    {
     "name": "stdout",
     "output_type": "stream",
     "text": [
      "There are 113287 [train], 5000 [val] and 5000 [test] images in Karpathy's split.\n"
     ]
    }
   ],
   "source": [
    "# load karpathy's splits\n",
    "karpathy_splits_dir = \"../data/coco/karpathy_splits\"\n",
    "karpathy_train_iids = []\n",
    "with open(osp.join(karpathy_splits_dir, \"karpathy_train_images.txt\")) as f:\n",
    "    for line in f.readlines():\n",
    "        iid = int(line.split('.')[0].split('_')[-1])\n",
    "        karpathy_train_iids.append(iid)\n",
    "karpathy_val_iids = []\n",
    "with open(osp.join(karpathy_splits_dir, \"karpathy_val_images.txt\")) as f:\n",
    "    for line in f.readlines():\n",
    "        iid = int(line.split('.')[0].split('_')[-1])\n",
    "        karpathy_val_iids.append(iid)\n",
    "karpathy_test_iids = []\n",
    "with open(osp.join(karpathy_splits_dir, \"karpathy_test_images.txt\")) as f:\n",
    "    for line in f.readlines():\n",
    "        iid = int(line.split('.')[0].split('_')[-1])\n",
    "        karpathy_test_iids.append(iid)\n",
    "print(f\"There are {len(karpathy_train_iids)} [train], {len(karpathy_val_iids)} [val] and {len(karpathy_test_iids)} [test] images in Karpathy's split.\")"
   ]
  },
  {
   "cell_type": "code",
   "execution_count": 22,
   "metadata": {},
   "outputs": [
    {
     "data": {
      "text/plain": [
       "593"
      ]
     },
     "execution_count": 22,
     "metadata": {},
     "output_type": "execute_result"
    }
   ],
   "source": [
    "# check if they are same\n",
    "len(set(karpathy_test_iids).intersection(set(minival_iids)))"
   ]
  },
  {
   "cell_type": "code",
   "execution_count": 37,
   "metadata": {},
   "outputs": [
    {
     "data": {
      "text/plain": [
       "True"
      ]
     },
     "execution_count": 37,
     "metadata": {},
     "output_type": "execute_result"
    }
   ],
   "source": [
    "# check if the whole image_iids sets are the same\n",
    "len(train_iids) + len(valminusminival_iids) + len(minival_iids) == \\\n",
    "    len(karpathy_train_iids) + len(karpathy_val_iids) + len(karpathy_test_iids)"
   ]
  },
  {
   "cell_type": "code",
   "execution_count": 38,
   "metadata": {},
   "outputs": [
    {
     "data": {
      "text/plain": [
       "123287"
      ]
     },
     "execution_count": 38,
     "metadata": {},
     "output_type": "execute_result"
    }
   ],
   "source": [
    "len(karpathy_train_iids) + len(karpathy_val_iids) + len(karpathy_test_iids)"
   ]
  },
  {
   "cell_type": "code",
   "execution_count": null,
   "metadata": {},
   "outputs": [],
   "source": []
  }
 ],
 "metadata": {
  "kernelspec": {
   "display_name": "Python 3",
   "language": "python",
   "name": "python3"
  },
  "language_info": {
   "codemirror_mode": {
    "name": "ipython",
    "version": 3
   },
   "file_extension": ".py",
   "mimetype": "text/x-python",
   "name": "python",
   "nbconvert_exporter": "python",
   "pygments_lexer": "ipython3",
   "version": "3.8.2"
  }
 },
 "nbformat": 4,
 "nbformat_minor": 4
}
